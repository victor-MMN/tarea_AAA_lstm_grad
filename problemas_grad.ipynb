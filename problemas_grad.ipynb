{
  "cells": [
    {
      "cell_type": "markdown",
      "metadata": {
        "id": "view-in-github",
        "colab_type": "text"
      },
      "source": [
        "<a href=\"https://colab.research.google.com/github/victor-MMN/tarea_AAA_lstm_grad/blob/main/problemas_grad.ipynb\" target=\"_parent\"><img src=\"https://colab.research.google.com/assets/colab-badge.svg\" alt=\"Open In Colab\"/></a>"
      ]
    },
    {
      "cell_type": "markdown",
      "metadata": {
        "id": "AGYDBLFoGhXv"
      },
      "source": [
        "<center>\n",
        "<p><img src=\"https://mcd.unison.mx/wp-content/themes/awaken/img/logo_mcd.png\" width=\"150\">\n",
        "</p>\n",
        "\n",
        "\n",
        "\n",
        "<h1>El problema del gradiente en las RNN vainilla</h1>\n",
        "\n",
        "<h3>Curso Aprendizaje Automático Aplicado</h3>\n",
        "\n",
        "\n",
        "<p> Julio Waissman Vilanova </p>\n",
        "\n",
        "\n",
        "<a target=\"_blank\" href=\"https://colab.research.google.com/github/mcd-unison/pln/blob/main/labs/RNN/vanish-grad.ipynb\"><img src=\"https://i.ibb.co/2P3SLwK/colab.png\"  style=\"padding-bottom:5px;\"  width=\"30\" /> Ejecuta en Colab</a>\n",
        "\n",
        "<p>\n",
        "Tomado de libretas la libreta <i>C3_W3_Lecture_Notebook_Vanishing_Gradients.ipynb</i> de la  <i>Especialización en procesamiento de lenguaje natural</i> de <i>Deeplearning.ai</i>, disponible en <i>Coursera</i>.\n",
        "</p>\n",
        "\n",
        "\n",
        "</center>"
      ]
    },
    {
      "cell_type": "markdown",
      "metadata": {
        "id": "88KGIfNKGhX1"
      },
      "source": []
    },
    {
      "cell_type": "markdown",
      "metadata": {
        "id": "Nos_3xDeGhX1"
      },
      "source": [
        "\n",
        "## Background\n",
        "Vanilla RNNs are prone to vanishing and exploding gradients when dealing with long sequences. Recall that the gradient with respect to $W_h$ is proportional to a sum of products:\n",
        "\n",
        "$$\\frac{\\delta L}{\\delta W_h} \\propto \\sum_{1\\le k\\le t} \\left(\\prod_{t\\ge i>k} \\frac{\\delta h_i}{\\delta h_{i-1}}\\right)\\frac{\\delta h_k}{\\delta W_h}$$\n",
        "\n",
        "where, for step $k$ far away from the place where the loss is computed ($t$), the product\n",
        "\n",
        "$$\\prod_{t\\ge i>k} \\frac{\\delta h_i}{\\delta h_{i-1}}$$\n",
        "\n",
        "can either go to 0 or infinity depending on the values of the partial derivative of the hidden state $\\frac{\\delta h_i}{\\delta h_{i-1}}$. In this ungraded lab, you will take a closer look at the partial derivative of the hidden state, and I'll show you how gradient problems arise when dealing with long sequences in vanilla RNNs.\n",
        "\n",
        "## Imports"
      ]
    },
    {
      "cell_type": "code",
      "execution_count": 1,
      "metadata": {
        "tags": [],
        "id": "eBr9V71nGhX3"
      },
      "outputs": [],
      "source": [
        "import numpy as np\n",
        "import matplotlib.pyplot as plt\n",
        "import ipywidgets as widgets\n",
        "from ipywidgets import interact, interactive, fixed, interact_manual\n",
        "\n",
        "%matplotlib inline"
      ]
    },
    {
      "cell_type": "markdown",
      "metadata": {
        "id": "dpVyJGrgGhX4"
      },
      "source": [
        "## Activations & Partial Derivative\n",
        "\n",
        "### Partial Derivative\n",
        "Recall that the hidden state at step $i$ is defined as:\n",
        "\n",
        "$$h_i= \\sigma(W_{hh} h_{i-1} + W_{hx} x_i + b_h)$$\n",
        "\n",
        "where $\\sigma$ is an activation function (usually sigmoid). So, you can use the chain rule to get the partial derivative:\n",
        "\n",
        "$$\\frac{\\delta h_i}{\\delta h_{i-1}} = W_{hh}^T \\text{diag} (\\sigma'(W_{hh} h_{i-1} + W_{hx} x_i + b_h))$$\n",
        "\n",
        "$W_h^T$ is the transpose of the weight matrix, and $\\sigma'$ is the gradient of the activation function. The gradient of the activation function is a vector of size equal to the hidden state size, and the $\\text{diag}$ converts that vector into a diagonal matrix. You <strong>don't have to worry about the calculus</strong> behind this derivative, and you only need to be familiar with the form it takes.  \n",
        "\n",
        "### Vanishing and Exploding Gradient Conditions\n",
        "\n",
        "When the product\n",
        "\n",
        "$$\\prod_{t\\ge i > k} \\frac{\\partial h_i}{\\partial h_{i-1}} = \\prod_{t\\ge i > k} W_{hh}^T \\text{diag} (\\sigma'(W_{hh} h_{i-1} + W_{hx} x_i + b_h))$$\n",
        "\n",
        "approaches 0, you face vanishing gradient problems where the contribution of item $k$ in the sequence is neglected. Conversely, when the product approaches infinity you will face exploding gradients and convergence problems arise. For that product approaching either of those values, two conditions need to be met:\n",
        "\n",
        "<ol>\n",
        "<li> Derivative of the activation function is bounded by some value $\\alpha$ </li>\n",
        "<li> The absolute value of the largest eigenvalue of the weight matrix $W_{hh}$ is lower than $\\frac{1}{\\alpha}$ (sufficient condition for vanishing gradient), or greater than $\\frac{1}{\\alpha}$ (necessary condition for exploding gradient).</li>\n",
        "</ol>\n",
        "\n",
        "### Activation\n",
        "\n",
        "So let's check the first condition for the sigmoid function. Run the cell below to get an interactive plot of the sigmoid function and its derivative at different points. Feel free to change the argument values to check if the derivative is bounded or not."
      ]
    },
    {
      "cell_type": "code",
      "execution_count": 2,
      "metadata": {
        "id": "_2jqLj5fGhX5",
        "colab": {
          "base_uri": "https://localhost:8080/",
          "height": 590,
          "referenced_widgets": [
            "522fd49c88004da4ac6370bcd864cbed",
            "e25095b435ba48e6a7d1f04b501dd241",
            "93e47e625f56471485ee7af5ca790ef7",
            "281953ee86a4423c8466d1412f4e59c9",
            "a0d05ca108d64df28ea58db8d411b29e",
            "d79ef99c24714cd39a1693274bdc03e0",
            "8230ae4af4d14ed694ad2f3e13a989da"
          ]
        },
        "outputId": "9b863f2b-6817-4955-834e-f92f7f57b1cc"
      },
      "outputs": [
        {
          "output_type": "display_data",
          "data": {
            "text/plain": [
              "interactive(children=(FloatSlider(value=0.0, description='x_tan', max=6.0, min=-6.0, step=0.5), Output()), _do…"
            ],
            "application/vnd.jupyter.widget-view+json": {
              "version_major": 2,
              "version_minor": 0,
              "model_id": "522fd49c88004da4ac6370bcd864cbed"
            }
          },
          "metadata": {}
        },
        {
          "output_type": "execute_result",
          "data": {
            "text/plain": [
              "<function __main__.plot_func(x_tan=0)>"
            ],
            "text/html": [
              "<div style=\"max-width:800px; border: 1px solid var(--colab-border-color);\"><style>\n",
              "      pre.function-repr-contents {\n",
              "        overflow-x: auto;\n",
              "        padding: 8px 12px;\n",
              "        max-height: 500px;\n",
              "      }\n",
              "\n",
              "      pre.function-repr-contents.function-repr-contents-collapsed {\n",
              "        cursor: pointer;\n",
              "        max-height: 100px;\n",
              "      }\n",
              "    </style>\n",
              "    <pre style=\"white-space: initial; background:\n",
              "         var(--colab-secondary-surface-color); padding: 8px 12px;\n",
              "         border-bottom: 1px solid var(--colab-border-color);\"><b>plot_func</b><br/>def plot_func(x_tan=0)</pre><pre class=\"function-repr-contents function-repr-contents-collapsed\" style=\"\"><a class=\"filepath\" style=\"display:none\" href=\"#\">/content/&lt;ipython-input-2-2178035eb9d6&gt;</a>&lt;no docstring&gt;</pre></div>"
            ]
          },
          "metadata": {},
          "execution_count": 2
        }
      ],
      "source": [
        "# Data\n",
        "\n",
        "### START CODE HERE ###\n",
        "x = np.linspace(-200, 200, 200)  # try changing the range of values in the data. eg: (-100,100,1000)\n",
        "### END CODE HERE ###\n",
        "# Activation\n",
        "# Interval [0, 1]\n",
        "def sigmoid(x):\n",
        "    return 1 / (1 + np.exp(-x))\n",
        "\n",
        "activations = sigmoid(x)\n",
        "\n",
        "# Gradient\n",
        "# Interval [0, 0.25]\n",
        "def sigmoid_gradient(x):\n",
        "    return sigmoid(x) * (1 - sigmoid(x))\n",
        "\n",
        "# Add the tangent line\n",
        "def plot_func(x_tan = 0):\n",
        "    plt.plot(x, activations)\n",
        "    plt.title(\"Sigmoid Function and Gradient\")\n",
        "    plt.xlabel(\"$x$\")\n",
        "    plt.ylabel(\"sigmoid($x$)\")\n",
        "    plt.text(x_tan, sigmoid(x_tan), f\"Gradient: {sigmoid_gradient(x_tan):.4f}\")\n",
        "    plt.xlim((-6,6))\n",
        "    plt.ylim((-0.5,1.5))\n",
        "    plt.rcParams['figure.figsize'] = [7, 5]\n",
        "    y_tan = sigmoid(x_tan)  # y value\n",
        "    span = 4 # line span along x axis\n",
        "    data_tan = np.linspace(x_tan - span, x_tan + span)  # x values to plot\n",
        "    gradient_tan = sigmoid_gradient(x_tan)     # gradient of the tangent\n",
        "    tan = y_tan + gradient_tan * (data_tan - x_tan)     # y values to plot\n",
        "    plt.plot(x_tan, y_tan, marker=\"o\", color=\"orange\", label=True)  # marker\n",
        "    plt.plot(data_tan, tan, linestyle=\"--\", color=\"orange\")         # line\n",
        "    plt.show()\n",
        "\n",
        "interact(plot_func, x_tan = widgets.FloatSlider(value=0,\n",
        "                                            min=-6,\n",
        "                                            max=6,\n",
        "                                            step=0.5))"
      ]
    },
    {
      "cell_type": "markdown",
      "metadata": {
        "id": "nW5DRjOBGhX6"
      },
      "source": [
        "As you checked, the derivative of the sigmoid function is bounded by $\\alpha=\\frac{1}{4}$. So vanishing gradient problems will arise for long-term components if the largest eigenvalue of $W_{hh}$ is lower than 4, and exploding gradient problems will happen if the largest eigenvalue is larger than 4."
      ]
    },
    {
      "cell_type": "markdown",
      "metadata": {
        "id": "nm7Wo6U_GhX7"
      },
      "source": [
        "## Vanishing Gradient with Sigmoid Activation"
      ]
    },
    {
      "cell_type": "markdown",
      "metadata": {
        "id": "yXSl4fNQGhX7"
      },
      "source": [
        "Let's generate a random checkpoint for an RNN model and assume that the sequences are of length $t=20$:"
      ]
    },
    {
      "cell_type": "code",
      "execution_count": 3,
      "metadata": {
        "id": "OPEHDLqHGhX8"
      },
      "outputs": [],
      "source": [
        "np.random.seed(12345)\n",
        "t = 20\n",
        "h = np.random.randn(5,t)\n",
        "x = np.random.randn(5,t)"
      ]
    },
    {
      "cell_type": "code",
      "execution_count": 4,
      "metadata": {
        "id": "_6Rf75I-GhX8"
      },
      "outputs": [],
      "source": [
        "b_h = np.random.randn(5,1)\n",
        "W_hx = np.random.randn(5,5)"
      ]
    },
    {
      "cell_type": "markdown",
      "metadata": {
        "id": "Uha2_h5mGhX8"
      },
      "source": [
        "In the next cell, you will create a random matrix $W_{hh}$ with eigenvalues lower than four."
      ]
    },
    {
      "cell_type": "code",
      "execution_count": 5,
      "metadata": {
        "id": "zm2Op4z5GhX9"
      },
      "outputs": [],
      "source": [
        "eig = np.random.rand(5) * 4 #Random eigenvalues lower than 4\n",
        "Q = np.random.randn(5,5) #Random eigenvectors stacked in matrix Q\n",
        "W_hh = Q @ np.diag(eig) @ np.linalg.inv(Q) #W_hh"
      ]
    },
    {
      "cell_type": "markdown",
      "metadata": {
        "id": "4BiJmPlUGhX9"
      },
      "source": [
        "Finally, let us define the product function for a determined step $k$."
      ]
    },
    {
      "cell_type": "code",
      "execution_count": 6,
      "metadata": {
        "id": "RpEuo7dEGhX9"
      },
      "outputs": [],
      "source": [
        "def prod(k):\n",
        "    p = 1\n",
        "    for i in range(t-1, k-2, -1):\n",
        "        p *= W_hh.T @ np.diag(sigmoid_gradient(W_hh@h[:,i] + W_hx@x[:,i] + b_h))\n",
        "    return p"
      ]
    },
    {
      "cell_type": "markdown",
      "metadata": {
        "id": "5avcvSVaGhX9"
      },
      "source": [
        "Now, you can plot the contribution to the gradient for different steps $k$."
      ]
    },
    {
      "cell_type": "code",
      "execution_count": 7,
      "metadata": {
        "id": "iS_nV70_GhX9",
        "colab": {
          "base_uri": "https://localhost:8080/",
          "height": 489
        },
        "outputId": "d4e31ca8-962b-4518-a5fb-c5fc3e5858e1"
      },
      "outputs": [
        {
          "output_type": "display_data",
          "data": {
            "text/plain": [
              "<Figure size 700x500 with 1 Axes>"
            ],
            "image/png": "[encoded data removed]"
          },
          "metadata": {}
        }
      ],
      "source": [
        "product = np.zeros(20)\n",
        "for k in range(t):\n",
        "    product[k] = np.max(prod(k+1))\n",
        "\n",
        "plt.plot(np.array(range(t))+1, product)\n",
        "plt.title(\"Maximum contribution to the gradient at step $k$\");\n",
        "plt.xlabel(\"k\");\n",
        "plt.ylabel(\"Maximum contribution\");\n",
        "plt.xticks(np.array(range(t))+1);"
      ]
    },
    {
      "cell_type": "markdown",
      "metadata": {
        "id": "7LHwFDw0GhX9"
      },
      "source": [
        "With the largest eigenvalue of the weight matrix $W_{hh}$ being lower than 4 --with a sigmoid activation function, the contribution of the early items in the sequence to the gradient go to zero. In practice, this will make your RNN rely only upon the most recent items in the series."
      ]
    },
    {
      "cell_type": "markdown",
      "metadata": {
        "id": "h7rQGi4sGhX-"
      },
      "source": [
        "## Exploding Gradient with Sigmoid Activation"
      ]
    },
    {
      "cell_type": "markdown",
      "metadata": {
        "id": "W2EYr9KJGhX-"
      },
      "source": [
        "An essential difference with the vanishing gradient problem is that the condition for exploding gradients is necessary but not sufficient. Therefore, it is very likely that you will face vanishing gradients rather than exploding gradient problems. However, let's fabricate an example for exploding gradients."
      ]
    },
    {
      "cell_type": "code",
      "execution_count": 8,
      "metadata": {
        "id": "xtUFFqxYGhX-"
      },
      "outputs": [],
      "source": [
        "np.random.seed(12345)\n",
        "t = 20\n",
        "h = np.zeros((5,t))\n",
        "x = np.zeros((5,t))"
      ]
    },
    {
      "cell_type": "code",
      "execution_count": 9,
      "metadata": {
        "id": "40POojZcGhX-"
      },
      "outputs": [],
      "source": [
        "b_h = np.zeros((5,1))\n",
        "W_hx = np.random.randn(5,5)"
      ]
    },
    {
      "cell_type": "markdown",
      "metadata": {
        "id": "6QwdQ_WMGhX-"
      },
      "source": [
        "In the next cell, a random matrix $W_{hh}$ with eigenvalues greater than 4 is created"
      ]
    },
    {
      "cell_type": "code",
      "execution_count": 10,
      "metadata": {
        "id": "VuNpiqduGhX-"
      },
      "outputs": [],
      "source": [
        "eig = 4 + np.random.rand(5)*10 #Random eigenvalues greater than 4\n",
        "Q = np.random.randn(5,5) #Random eigenvectors stacked in matrix Q\n",
        "W_hh = Q@np.diag(eig)@np.linalg.inv(Q) #W_hh"
      ]
    },
    {
      "cell_type": "markdown",
      "metadata": {
        "id": "_yZjDjDzGhX_"
      },
      "source": [
        "Now, you can plot the contribution to the gradient for different steps $k$."
      ]
    },
    {
      "cell_type": "code",
      "execution_count": 11,
      "metadata": {
        "id": "mCtRwuc6GhX_",
        "colab": {
          "base_uri": "https://localhost:8080/",
          "height": 489
        },
        "outputId": "6641def0-8959-48e8-c847-500b1910b9b2"
      },
      "outputs": [
        {
          "output_type": "display_data",
          "data": {
            "text/plain": [
              "<Figure size 700x500 with 1 Axes>"
            ],
            "image/png": "[encoded data removed]"
          },
          "metadata": {}
        }
      ],
      "source": [
        "product = np.zeros(20)\n",
        "for k in range(t):\n",
        "    product[k] = np.max(prod(k+1))\n",
        "\n",
        "plt.plot(np.array(range(t))+1, product)\n",
        "plt.title(\"Maximum contribution to the gradient at step $k$\");\n",
        "plt.xlabel(\"k\");\n",
        "plt.ylabel(\"Maximum contribution\");\n",
        "plt.xticks(np.array(range(t))+1);"
      ]
    },
    {
      "cell_type": "markdown",
      "metadata": {
        "id": "ayG6hMusGhYA"
      },
      "source": [
        "With the largest eigenvalue of the weight matrix $W_{hh}$ being greater than 4 --with a sigmoid activation function, the contribution of the early items in the sequence to the gradient goes to infinity. In practice, this will make you face convergence problems during training."
      ]
    },
    {
      "cell_type": "markdown",
      "metadata": {
        "id": "61rUmZaRGhYA"
      },
      "source": [
        "Now you are more familiar with the conditions for vanishing and exploding gradient problems. You should take away that for vanishing gradient it is <strong>sufficient</strong> to satisfy an eigenvalue condition, while for the exploding gradient problem it is <strong>neccesary</strong> but not enough. I used the weight matrix $W_{hh}$ in this discussion, but everything exposed here also applies for $W_{hx}$."
      ]
    },
    {
      "cell_type": "markdown",
      "metadata": {
        "id": "KVkacGk-GhYA"
      },
      "source": [
        "## Solution\n",
        "One solution is to use RNN architectures specially designed to avoid these problems (like GRUs and LSTMs). Other solutions involve skip-connections or gradient clipping. But those are both discussions for another time."
      ]
    }
  ],
  "metadata": {
    "kernelspec": {
      "display_name": "Python 3",
      "language": "python",
      "name": "python3"
    },
    "language_info": {
      "codemirror_mode": {
        "name": "ipython",
        "version": 3
      },
      "file_extension": ".py",
      "mimetype": "text/x-python",
      "name": "python",
      "nbconvert_exporter": "python",
      "pygments_lexer": "ipython3",
      "version": "3.8.13"
    },
    "colab": {
      "provenance": [],
      "include_colab_link": true
    },
    "widgets": {
      "application/vnd.jupyter.widget-state+json": {
        "522fd49c88004da4ac6370bcd864cbed": {
          "model_module": "@jupyter-widgets/controls",
          "model_name": "VBoxModel",
          "model_module_version": "1.5.0",
          "state": {
            "_dom_classes": [
              "widget-interact"
            ],
            "_model_module": "@jupyter-widgets/controls",
            "_model_module_version": "1.5.0",
            "_model_name": "VBoxModel",
            "_view_count": null,
            "_view_module": "@jupyter-widgets/controls",
            "_view_module_version": "1.5.0",
            "_view_name": "VBoxView",
            "box_style": "",
            "children": [
              "IPY_MODEL_e25095b435ba48e6a7d1f04b501dd241",
              "IPY_MODEL_93e47e625f56471485ee7af5ca790ef7"
            ],
            "layout": "IPY_MODEL_281953ee86a4423c8466d1412f4e59c9"
          }
        },
        "e25095b435ba48e6a7d1f04b501dd241": {
          "model_module": "@jupyter-widgets/controls",
          "model_name": "FloatSliderModel",
          "model_module_version": "1.5.0",
          "state": {
            "_dom_classes": [],
            "_model_module": "@jupyter-widgets/controls",
            "_model_module_version": "1.5.0",
            "_model_name": "FloatSliderModel",
            "_view_count": null,
            "_view_module": "@jupyter-widgets/controls",
            "_view_module_version": "1.5.0",
            "_view_name": "FloatSliderView",
            "continuous_update": true,
            "description": "x_tan",
            "description_tooltip": null,
            "disabled": false,
            "layout": "IPY_MODEL_a0d05ca108d64df28ea58db8d411b29e",
            "max": 6,
            "min": -6,
            "orientation": "horizontal",
            "readout": true,
            "readout_format": ".2f",
            "step": 0.5,
            "style": "IPY_MODEL_d79ef99c24714cd39a1693274bdc03e0",
            "value": 0
          }
        },
        "93e47e625f56471485ee7af5ca790ef7": {
          "model_module": "@jupyter-widgets/output",
          "model_name": "OutputModel",
          "model_module_version": "1.0.0",
          "state": {
            "_dom_classes": [],
            "_model_module": "@jupyter-widgets/output",
            "_model_module_version": "1.0.0",
            "_model_name": "OutputModel",
            "_view_count": null,
            "_view_module": "@jupyter-widgets/output",
            "_view_module_version": "1.0.0",
            "_view_name": "OutputView",
            "layout": "IPY_MODEL_8230ae4af4d14ed694ad2f3e13a989da",
            "msg_id": "",
            "outputs": [
              {
                "output_type": "display_data",
                "data": {
                  "text/plain": "<Figure size 640x480 with 1 Axes>",
                  "image/png": "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\n"
                },
                "metadata": {}
              }
            ]
          }
        },
        "281953ee86a4423c8466d1412f4e59c9": {
          "model_module": "@jupyter-widgets/base",
          "model_name": "LayoutModel",
          "model_module_version": "1.2.0",
          "state": {
            "_model_module": "@jupyter-widgets/base",
            "_model_module_version": "1.2.0",
            "_model_name": "LayoutModel",
            "_view_count": null,
            "_view_module": "@jupyter-widgets/base",
            "_view_module_version": "1.2.0",
            "_view_name": "LayoutView",
            "align_content": null,
            "align_items": null,
            "align_self": null,
            "border": null,
            "bottom": null,
            "display": null,
            "flex": null,
            "flex_flow": null,
            "grid_area": null,
            "grid_auto_columns": null,
            "grid_auto_flow": null,
            "grid_auto_rows": null,
            "grid_column": null,
            "grid_gap": null,
            "grid_row": null,
            "grid_template_areas": null,
            "grid_template_columns": null,
            "grid_template_rows": null,
            "height": null,
            "justify_content": null,
            "justify_items": null,
            "left": null,
            "margin": null,
            "max_height": null,
            "max_width": null,
            "min_height": null,
            "min_width": null,
            "object_fit": null,
            "object_position": null,
            "order": null,
            "overflow": null,
            "overflow_x": null,
            "overflow_y": null,
            "padding": null,
            "right": null,
            "top": null,
            "visibility": null,
            "width": null
          }
        },
        "a0d05ca108d64df28ea58db8d411b29e": {
          "model_module": "@jupyter-widgets/base",
          "model_name": "LayoutModel",
          "model_module_version": "1.2.0",
          "state": {
            "_model_module": "@jupyter-widgets/base",
            "_model_module_version": "1.2.0",
            "_model_name": "LayoutModel",
            "_view_count": null,
            "_view_module": "@jupyter-widgets/base",
            "_view_module_version": "1.2.0",
            "_view_name": "LayoutView",
            "align_content": null,
            "align_items": null,
            "align_self": null,
            "border": null,
            "bottom": null,
            "display": null,
            "flex": null,
            "flex_flow": null,
            "grid_area": null,
            "grid_auto_columns": null,
            "grid_auto_flow": null,
            "grid_auto_rows": null,
            "grid_column": null,
            "grid_gap": null,
            "grid_row": null,
            "grid_template_areas": null,
            "grid_template_columns": null,
            "grid_template_rows": null,
            "height": null,
            "justify_content": null,
            "justify_items": null,
            "left": null,
            "margin": null,
            "max_height": null,
            "max_width": null,
            "min_height": null,
            "min_width": null,
            "object_fit": null,
            "object_position": null,
            "order": null,
            "overflow": null,
            "overflow_x": null,
            "overflow_y": null,
            "padding": null,
            "right": null,
            "top": null,
            "visibility": null,
            "width": null
          }
        },
        "d79ef99c24714cd39a1693274bdc03e0": {
          "model_module": "@jupyter-widgets/controls",
          "model_name": "SliderStyleModel",
          "model_module_version": "1.5.0",
          "state": {
            "_model_module": "@jupyter-widgets/controls",
            "_model_module_version": "1.5.0",
            "_model_name": "SliderStyleModel",
            "_view_count": null,
            "_view_module": "@jupyter-widgets/base",
            "_view_module_version": "1.2.0",
            "_view_name": "StyleView",
            "description_width": "",
            "handle_color": null
          }
        },
        "8230ae4af4d14ed694ad2f3e13a989da": {
          "model_module": "@jupyter-widgets/base",
          "model_name": "LayoutModel",
          "model_module_version": "1.2.0",
          "state": {
            "_model_module": "@jupyter-widgets/base",
            "_model_module_version": "1.2.0",
            "_model_name": "LayoutModel",
            "_view_count": null,
            "_view_module": "@jupyter-widgets/base",
            "_view_module_version": "1.2.0",
            "_view_name": "LayoutView",
            "align_content": null,
            "align_items": null,
            "align_self": null,
            "border": null,
            "bottom": null,
            "display": null,
            "flex": null,
            "flex_flow": null,
            "grid_area": null,
            "grid_auto_columns": null,
            "grid_auto_flow": null,
            "grid_auto_rows": null,
            "grid_column": null,
            "grid_gap": null,
            "grid_row": null,
            "grid_template_areas": null,
            "grid_template_columns": null,
            "grid_template_rows": null,
            "height": null,
            "justify_content": null,
            "justify_items": null,
            "left": null,
            "margin": null,
            "max_height": null,
            "max_width": null,
            "min_height": null,
            "min_width": null,
            "object_fit": null,
            "object_position": null,
            "order": null,
            "overflow": null,
            "overflow_x": null,
            "overflow_y": null,
            "padding": null,
            "right": null,
            "top": null,
            "visibility": null,
            "width": null
          }
        }
      }
    }
  },
  "nbformat": 4,
  "nbformat_minor": 0
}